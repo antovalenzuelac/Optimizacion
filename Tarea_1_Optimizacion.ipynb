{
  "nbformat": 4,
  "nbformat_minor": 0,
  "metadata": {
    "colab": {
      "provenance": []
    },
    "kernelspec": {
      "name": "python3",
      "display_name": "Python 3"
    },
    "language_info": {
      "name": "python"
    }
  },
  "cells": [
    {
      "cell_type": "markdown",
      "source": [
        "Universidad de Chile\n",
        "Facultad de Ciencias Físicas y Matemáticas\n",
        "Departamento de Ingeniería Matemática\n",
        "\n",
        "MA3711-1 Optimización Matemática, 2023-1.      \n",
        "Profesor: Jorge Amaya.    \n",
        "Auxiliar: Aldo Gutierrez.     \n",
        "Ayudante: Carolina Chiu.    \n",
        "Alumna: Antonia Valenzuela.    \n",
        "\n",
        "# Tarea Numérica $\\#1$"
      ],
      "metadata": {
        "id": "olvr2BzyKJZr"
      }
    },
    {
      "cell_type": "markdown",
      "source": [
        "###Parte 1\n",
        "Para plantear el problema como uno de programación lineal, procedemos como\n",
        "1. Como se trata de un problema de producción, dejaremos que las variables de decisión correspondan justamente a los cinco productos $P_1 , P_2, P_3, P_4,  P_5$.\n",
        "2. Definiremos la función objetivo como la utilidad, la cual buscaremos maximizar, es decir, si definimos $P= (P1,P2,P3,P4,P5)^t$ el vector decisión, entonces la función objetivo resulta $c^t P= 1,1P_1 +2,1P_2 + 2,18P_3 + 2,21P_4 + 4,4P_5$ \\\\\n",
        "Donde el vector $c^t$ contiene los coeficientes dados por la diferencia de los vectores ganancia y costo por unidad.\n",
        "3. Estudiemos cada una de las restricciones\n",
        "  - Se nos dice que ningún producto debe ser producido más del doble del otro, lo cual se puede traducir como $\\forall i \\neq j, P_i \\leq 2P_j$ donde $ i,j = 1,...,5.$ \n",
        "  - Se tiene un presupuesto de 5000, por tanto el vector de costos por unidad multiplicado por el vector decisión satisface $4,14P_1 + 5,2P_2 +6,66P_3 +1,97P_4+ 5,03P_5 \\leq 5000 $.\n",
        "  - Se tiene también una restricción temporal sobre las máquinas $M_1, M_2,M_3,M_4$ y $M_5$. Por ejemplo, para producir una unidad de $P_1$, se requieren 1,5 horas semanales de $M_1$, 1 hora de $M_2$, 1,5 horas de $M_3$ y 2 horas de $M_4$. Podemos formular, de esta manera \\\\\n",
        "\n",
        "  $$ \\begin{bmatrix}1,5 & 1 & 2,4 & 1 & 3 \\\\\n",
        "1 & 5 & 1 & 3,5 & 0,5  \\\\\n",
        "1,5 & 3  & 3,5  & 1 & 2  \\\\ \n",
        "2 & 4 & 4,2 & 4,3 & 6 \n",
        "\\end{bmatrix}\n",
        "\\begin{bmatrix} P_{1} \\\\\n",
        "P_{2} \\\\\n",
        "P_{3} \\\\\n",
        "P_{4} \\\\\n",
        "P_{5}\n",
        "\\end{bmatrix} \n",
        "\\leq \n",
        "\\begin{bmatrix} 2000 \\\\\n",
        "8000 \\\\\n",
        "5000 \\\\\n",
        "12000\n",
        "\\end{bmatrix}$$\n",
        "\n",
        "      Que dará como resultado una matriz de dimensiones 4x1, donde cada fila corresponderá a una restricción para nuestro problema.\n",
        " - Luego, intuitivamente vamos a querer que las variables de decisión sean mayores o iguales a 0, esto es $P_{i} \\geq 0, \\forall i \\in \\{1,2,3,4,5 \\} $\n",
        "\n",
        "Finalmente, el programa lineal a resolver es \\\\\n",
        "\n",
        "$$\n",
        " (PL) \\left \\{ \n",
        " \\begin{array}{rcrll}\n",
        "    \\max && 1,1P_{1} + 2,1P_{2} + 2,18P_{3} +2,21P_{4} + 4,4P_{5} \\\\\n",
        "    \\text{s.a.}  \n",
        "    &&    4,14P_{1} +5,2P_{2} + 6,66P_{3} + 1,97P_{4} + 5,03P_{5}  &\\leq&  5000 \\\\\n",
        "    &&    1,5P_{1}+P_{2}+2,4P_{3}+P_{4} + 3P_{5}  &\\leq&  2000 \\\\\n",
        "    &&    P_{1}+ 5P_{2} + P_{3} + 3,5P_{4} + 0,5P_{5} &\\leq& 8000 \\\\\n",
        "    &&    1,5P_{1}+3P_{2} + 3,5P_{3} + P_{4}+2P_{5} &\\leq& 5000 \\\\\n",
        "    &&    2P_{1}+4P_{2} + 4,2P_{3}+ 4,3P_{4} + 6P_{5} &\\leq& 12000 \\\\\n",
        "    &&    P_{i}\\leq 2P_{j},\\ \\forall i \\neq j &&\\\\\n",
        "    &&    P_{i}\\geq 0,\\ \\forall i=1,\\dots,5. &&\n",
        " \\end{array}\n",
        " \\right.\n",
        " $$"
      ],
      "metadata": {
        "id": "gHazopYBKzFV"
      }
    },
    {
      "cell_type": "code",
      "source": [
        "import numpy as np\n",
        "from scipy.optimize import linprog\n",
        "!pip install gurobipy"
      ],
      "metadata": {
        "colab": {
          "base_uri": "https://localhost:8080/"
        },
        "id": "Gqj9HJvRpVyv",
        "outputId": "10e96fc2-dbdf-403a-b3e3-be8b556ad316"
      },
      "execution_count": 73,
      "outputs": [
        {
          "output_type": "stream",
          "name": "stdout",
          "text": [
            "Looking in indexes: https://pypi.org/simple, https://us-python.pkg.dev/colab-wheels/public/simple/\n",
            "Requirement already satisfied: gurobipy in /usr/local/lib/python3.10/dist-packages (10.0.1)\n"
          ]
        }
      ]
    },
    {
      "cell_type": "code",
      "execution_count": 74,
      "metadata": {
        "id": "qaPKGeNiJ_0P"
      },
      "outputs": [],
      "source": [
        "c = [-1.1,-2.1,-2.18,-2.21,-4.4] #vector de costos\n",
        "A = [[4.14,5.2,6.66,1.97,5.03],[1.5,1.0,2.4,1.0,3.0],[1.0,5.0,1.0,3.5,0.5],[1.5,3.0,3.5,1.0,2.0],[2.0,4.0,4.2,4.3,6.0]] #matriz de 5x5\n",
        "\n",
        "#nos falta definir la restricción P_{i} \\leq P_{j} \\forall j \\neq i\n",
        "#definamos una lista inicialmente vacía\n",
        "stock = []\n",
        "for i in range(5):\n",
        "    for j in range(5):\n",
        "      if i !=j:\n",
        "        p=np.zeros(5)\n",
        "        p[i]=1\n",
        "        p[j]=-2 #esto es [0,1,-2,0,0] por ej, lo cual es equivalente a decir 1p_{1}<=2p_{2}\n",
        "        stock += [p]\n",
        "\n",
        "#concatenamos \n",
        "A= A + stock\n",
        "#donde la matriz stock tiene dimensiones 20x5 (pues son 20 iteraciones)\n",
        "#luego, A* P = b, A \\in \\mathcal(M)_{25x5}, P \\in \\mathcal(M)_{5x1} entonces b \\in mathcal(M)_{25x1}\n",
        "b= np.zeros((25,1))\n",
        "#asignamos\n",
        "b[0]=5000\n",
        "b[1]=2000\n",
        "b[2]=8000\n",
        "b[3]=5000\n",
        "b[4]=12000\n",
        "\n",
        "#en las demás filas de b habrán 0's, en consonancia con que cada fila verifique p_{i} - 2p_{j}<= 0\n",
        "\n",
        "P1_bound=(0, None)\n",
        "P2_bound=(0, None)\n",
        "P3_bound=(0, None)\n",
        "P4_bound=(0, None)\n",
        "P5_bound=(0, None) \n",
        "\n",
        "#como el solver minimiza, utilizamos max k = - min -k = -min c.\n",
        "sol = linprog(c, A, b, bounds=[P1_bound,P2_bound,P3_bound, P4_bound,P5_bound])"
      ]
    },
    {
      "cell_type": "code",
      "source": [
        "print(\"La solución es\", -sol.fun)\n",
        "print(\"Las cantidades óptimas a producir son\", sol.x)"
      ],
      "metadata": {
        "id": "MWNSdGRImi_1",
        "colab": {
          "base_uri": "https://localhost:8080/"
        },
        "outputId": "067b3cee-5228-4cef-d739-c8bbfd483c89"
      },
      "execution_count": 75,
      "outputs": [
        {
          "output_type": "stream",
          "name": "stdout",
          "text": [
            "La solución es 2963.5922330097083\n",
            "Las cantidades óptimas a producir son [145.63106796 266.99029126 145.63106796 291.26213592 291.26213592]\n"
          ]
        }
      ]
    },
    {
      "cell_type": "markdown",
      "source": [
        "La siguiente tabla resume las cantidad óptimas\n",
        "\n",
        "| Producto | Cantidad óptima a producir | \n",
        "|----------|----------|\n",
        "| $P_{1}$    | 145.63   |\n",
        "| $P_{2}$    | 266.99   | \n",
        "| $P_{3}$   | 145.63   | \n",
        "| $P_{4}$ | 291.26 |\n",
        "|$P_{5}$|  291.26 |\n",
        "\n",
        "\n"
      ],
      "metadata": {
        "id": "grJlQV19aiZw"
      }
    },
    {
      "cell_type": "markdown",
      "source": [
        "Para discutir las horas usadas por cada máquina en fabricación de cada producto, consideremos el tiempo total consumido por una máquina al fabricar los cinco productos (en el óptimo calculado). Más aún, se puede determinar el tiempo total consumido por una máquina para cada producto:\n",
        "\n",
        "$$ \\begin{pmatrix}1,5 & 1 & 2,4 & 1 & 3 \\\\\n",
        "1 & 5 & 1 & 3,5 & 0,5  \\\\\n",
        "1,5 & 3  & 3,5  & 1 & 2  \\\\ \n",
        "2 & 4 & 4,2 & 4,3 & 6 \n",
        "\\end{pmatrix}\n",
        "\\begin{pmatrix} P_{1} \\\\\n",
        "P_{2} \\\\\n",
        "P_{3} \\\\\n",
        "P_{4} \\\\\n",
        "P_{5}\n",
        "\\end{pmatrix} \n",
        "$$\n",
        "\n",
        "Definimos la matriz $A$ conteniendo en sus filas y columnas el tiempo disponible para cada máquina por unidad de producto."
      ],
      "metadata": {
        "id": "nYv79ubHs0fV"
      }
    },
    {
      "cell_type": "code",
      "source": [
        "from IPython.core.completer import ProvisionalCompleterWarning\n",
        "#La nueva matriz A contiene las horas requeridas para cada producto, donde cada fila corresponde a las horas de M1, M2, M3 y a M4.\n",
        "A = np.array([[1.5,1.0,2.4,1.0,3.0],[1.0,5.0,1.0,3.5,0.5],[1.5,3.0,3.5,1.0,2.0],[2.0,4.0,4.2,4.3,6.0]]) # \\in \\mathcal{M}_{45}\n",
        "\n",
        "#Para calcular las horas trabajadas por máquina, definimos\n",
        "#recibe vector variable decisión y el índice i de la máquina de la cuál se quiere saber el tiempo total que fue usada por cada producto\n",
        "def tiempototal(x,i):\n",
        "    v=np.transpose(x)\n",
        "    u= np.matmul(A,v) #producto matricial, u es de dimensiones 4x1 (4 máquinas)\n",
        "    return u[i]\n",
        "\n",
        "print(\"En el óptimo, la máquina 1 es usada un total de\",tiempototal(sol.x,0), \"horas\")\n",
        "print(\"En el óptimo, la máquina 2 es usada un total de\",tiempototal(sol.x,1), \"horas\")\n",
        "print(\"En el óptimo, la máquina 3 es usada un total de\",tiempototal(sol.x,2), \"horas\")\n",
        "print(\"En el óptimo, la máquina 4 es usada un total de\",tiempototal(sol.x,3), \"horas\")\n",
        "\n",
        "#Para determinar el tiempo de horas trabajadas por máquina para cada producto\n",
        "#el índice i recorre la indexación de las máquinas y j la de los productos.\n",
        "def tiempoparcial(x,i,j):\n",
        "    assert type(i)==int and type(j)==int\n",
        "    assert i>=0 and i<5\n",
        "    assert j>=0 and j<6\n",
        "    return A[i,j]*x[j]\n",
        "\n",
        "#por ejemplo:\n",
        "print(\"El producto P1 consumió\", tiempoparcial(sol.x,0,0), \"horas de M1\")\n",
        "print(\"El producto P2 consumió\", tiempoparcial(sol.x,0,1), \"horas de M1\")\n",
        "print(\"El producto P3 consumió\", tiempoparcial(sol.x,0,2), \"horas de M1\")\n",
        "print(\"El producto P4 consumió\", tiempoparcial(sol.x,0,3), \"horas de M1\")\n",
        "print(\"El producto P5 consumió\", tiempoparcial(sol.x,0,4), \"horas de M1\")\n",
        "\n",
        "\n",
        "  "
      ],
      "metadata": {
        "colab": {
          "base_uri": "https://localhost:8080/"
        },
        "id": "2UnNNjqOnuus",
        "outputId": "087286a4-339a-4288-8c24-da1ac6c7c154"
      },
      "execution_count": 76,
      "outputs": [
        {
          "output_type": "stream",
          "name": "stdout",
          "text": [
            "En el óptimo, la máquina 1 es usada un total de 1999.9999999999995 horas\n",
            "En el óptimo, la máquina 2 es usada un total de 2791.2621359223303 horas\n",
            "En el óptimo, la máquina 3 es usada un total de 2402.9126213592235 horas\n",
            "En el óptimo, la máquina 4 es usada un total de 4970.873786407767 horas\n",
            "El producto P1 consumió 218.44660194174767 horas de M1\n",
            "El producto P2 consumió 266.99029126213605 horas de M1\n",
            "El producto P3 consumió 349.514563106796 horas de M1\n",
            "El producto P4 consumió 291.2621359223299 horas de M1\n",
            "El producto P5 consumió 873.78640776699 horas de M1\n"
          ]
        }
      ]
    },
    {
      "cell_type": "markdown",
      "source": [
        "Notemos que la suma de los tiempos consumidos por cada producto en $M_{1}$ es igual a las horas totales consumidas por la máquina. \\\\\n",
        "\n",
        " La siguiente tabla resume las horas utilizadas en total por cada máquina, las cuales respetan las restricciones de horas totales disponibles en consonancia con el hecho de que las calculamos en la solución óptima.\n",
        "\n",
        "| Máquina |Horas totales consumidas por máquina | \n",
        "|----------|----------|\n",
        "| $M_{1}$    | 1999.99  |\n",
        "| $M_{2}$    | 2791.26   | \n",
        "| $M_{3}$   | 2402.91   | \n",
        "| $M_{4}$ | 4970.87 |\n",
        "\n",
        "En el óptimo, la máquina 1 es la única que consume casi por completo sus horas disponibles por semana. Notemos que $M_{1}$ en general consume menos horas que las demás máquinas pues, además de su limitado tiempo disponible semanal, posee horas requeridas por unidad de producto más bajas en general, trabajando así más rápido.\n"
      ],
      "metadata": {
        "id": "ux9-_fJ5uB1g"
      }
    },
    {
      "cell_type": "markdown",
      "source": [
        "###Parte 2\n",
        "Se nos pide evaluar los siguientes casos \\\\"
      ],
      "metadata": {
        "id": "mZ8qMzTjX8C-"
      }
    },
    {
      "cell_type": "markdown",
      "source": [
        "\n",
        "$a)$ Ya no existe la restricción de stock. En este caso nuestro problema se reduce a \\\\\n",
        "\n",
        "$$\n",
        " (PL) \\left \\{ \n",
        " \\begin{array}{rcrll}\n",
        "    \\max && 1,1P_{1} + 2,1P_{2} + 2,18P_{3} +2,21P_{4} + 4,4P_{5} \\\\\n",
        "    \\text{s.a.}  \n",
        "    &&    4,14P_{1} +5,2P_{2} + 6,66P_{3} + 1,97P_{4} + 5,03P_{5}  &\\leq&  5000 \\\\\n",
        "    &&    1,5P_{1}+P_{2}+2,4P_{3}+P_{4} + 3P_{5}  &\\leq&  2000 \\\\\n",
        "    &&    P_{1}+ 5P_{2} + P_{3} + 3,5P_{4} + 0,5P_{5} &\\leq& 8000 \\\\\n",
        "    &&    1,5P_{1}+3P_{2} + 3,5P_{3} + P_{4}+2P_{5} &\\leq& 5000 \\\\\n",
        "    &&    2P_{1}+4P_{2} + 4,2P_{3}+ 4,3P_{4} + 6P_{5} &\\leq& 12000 \\\\\n",
        "    &&    P_{i}&\\geq& 0,\\ \\forall i=1,\\dots,5 .&&\n",
        " \\end{array}\n",
        " \\right.\n",
        " $$\n",
        "\n",
        "Es decir, sencillamente omitimos la restricción de stock."
      ],
      "metadata": {
        "id": "wvQ8dUlLAXPZ"
      }
    },
    {
      "cell_type": "code",
      "source": [
        "#para esta parte podemos usar linprog saltándonos la parte de definir la restriccion de stock también, pero usemos gurobi\n",
        "from gurobipy import *\n",
        "\n",
        "m = Model(\"PL\")\n",
        "\n",
        "#declaramos la variable como continua\n",
        "p1=m.addVar(vtype=GRB.CONTINUOUS, name='p1')\n",
        "p2=m.addVar(vtype=GRB.CONTINUOUS, name='p2')\n",
        "p3=m.addVar(vtype=GRB.CONTINUOUS, name='p3')\n",
        "p4=m.addVar(vtype=GRB.CONTINUOUS, name='p4')\n",
        "p5=m.addVar(vtype=GRB.CONTINUOUS, name='p5')\n",
        "\n",
        "m.update() #Para actualizar el modelo\n",
        "\n",
        "p=[p1,p2,p3,p4,p5]\n",
        "\n",
        "def espositivo(P):\n",
        "  for i in range(len(P)):\n",
        "    return P[i]>=0\n",
        "              \n",
        "\n",
        "m.setObjective(1.1*p1+2.1*p2 +2.18*p3+2.21*p4+4.4*p5, GRB.MAXIMIZE)\n",
        "m.addConstr(4.14*p1 + 5.2*p2+ 6.66*p3+ 1.97*p4+ 5.03*p5<=5000,'r0')\n",
        "m.addConstr(p1+5*p2+p3+3.5*p4+0.5*p5<=8000,'r2')\n",
        "m.addConstr(1.5*p1+p2+2.4*p3+p4+3*p5<=2000,'r1')\n",
        "m.addConstr(1.5*p1 + 3*p2 + 3.5*p3 + p4 + 2*p5 <=5000,'r3')\n",
        "m.addConstr(2*p1 + 4*p2 + 4.2*p3 + 4.3*p4 + 6*p5<= 12000,'r4')\n",
        "m.addConstr(espositivo(p),'r5')\n",
        "\n",
        "m.update() #actualizamos la variable\n",
        "\n",
        "m.optimize()"
      ],
      "metadata": {
        "colab": {
          "base_uri": "https://localhost:8080/"
        },
        "id": "nA8EbhZiBZ3Q",
        "outputId": "e4377afe-19bf-4137-b242-053cc4441673"
      },
      "execution_count": 77,
      "outputs": [
        {
          "output_type": "stream",
          "name": "stdout",
          "text": [
            "Gurobi Optimizer version 10.0.1 build v10.0.1rc0 (linux64)\n",
            "\n",
            "CPU model: Intel(R) Xeon(R) CPU @ 2.20GHz, instruction set [SSE2|AVX|AVX2]\n",
            "Thread count: 1 physical cores, 2 logical processors, using up to 2 threads\n",
            "\n",
            "Optimize a model with 6 rows, 5 columns and 26 nonzeros\n",
            "Model fingerprint: 0xc6243504\n",
            "Coefficient statistics:\n",
            "  Matrix range     [5e-01, 7e+00]\n",
            "  Objective range  [1e+00, 4e+00]\n",
            "  Bounds range     [0e+00, 0e+00]\n",
            "  RHS range        [2e+03, 1e+04]\n",
            "Presolve removed 1 rows and 0 columns\n",
            "Presolve time: 0.01s\n",
            "Presolved: 5 rows, 5 columns, 25 nonzeros\n",
            "\n",
            "Iteration    Objective       Primal Inf.    Dual Inf.      Time\n",
            "       0    5.6091371e+03   3.904970e+02   0.000000e+00      0s\n",
            "       4    4.4200000e+03   0.000000e+00   0.000000e+00      0s\n",
            "\n",
            "Solved in 4 iterations and 0.01 seconds (0.00 work units)\n",
            "Optimal objective  4.420000000e+03\n"
          ]
        }
      ]
    },
    {
      "cell_type": "code",
      "source": [
        "print(\"Función objetivo:\", m.ObjVal)\n",
        "print(\"Para alcanzar la máxima utilidad hay que producir\", int(p1.X), \"unidades de P1,\", int(p2.X), \"unidades de P2,\", int(p3.X), \"unidades de P3,\", int(p4.X), \"unidades de P4 y\",int(p5.X), \"unidades de P5.\")"
      ],
      "metadata": {
        "colab": {
          "base_uri": "https://localhost:8080/"
        },
        "id": "6Heh3gEkfcfp",
        "outputId": "9e982591-46bd-4dbe-d53c-b79319933c68"
      },
      "execution_count": 78,
      "outputs": [
        {
          "output_type": "stream",
          "name": "stdout",
          "text": [
            "Función objetivo: 4420.0\n",
            "Para alcanzar la máxima utilidad hay que producir 0 unidades de P1, 0 unidades de P2, 0 unidades de P3, 2000 unidades de P4 y 0 unidades de P5.\n"
          ]
        }
      ]
    },
    {
      "cell_type": "markdown",
      "source": [
        "| Producto | Cantidad óptima a producir | \n",
        "|----------|----------|\n",
        "| $P_{1}$    | 0   |\n",
        "| $P_{2}$    | 0   | \n",
        "| $P_{3}$   | 0   | \n",
        "| $P_{4}$ | 2000 |\n",
        "|$P_{5}$|  0 |\n",
        "\n",
        "Y la función objetivo alcanza su máximo que, bajo las restricciones impuestas, es igual a 4420.\n",
        "\n",
        "En contraste con el caso inicial, como el problema de producción ahora carece de restricción de stock, se devela que claramente dadas las horas disponibles de cada máquina y los costos versus precios de los productos, conviene sólo producir el bien $P_{4}$, con el efecto colateral de que se pierde diversidad en la venta de productos."
      ],
      "metadata": {
        "id": "bHFfn5deM6zD"
      }
    },
    {
      "cell_type": "markdown",
      "source": [
        "$b)$ El presupuesto máximo a usar ahora es 4000"
      ],
      "metadata": {
        "id": "lnAwz4wYfiYK"
      }
    },
    {
      "cell_type": "code",
      "source": [
        "#Sólo basta cambiar la primera fila de b, que contiene el presupuesto. El tiempo disponible semanal permanece igual\n",
        "c = [-1.1,-2.1,-2.18,-2.21,-4.4] #vector de costos\n",
        "A = [[4.14,5.2,6.66,1.97,5.03],[1.5,1.0,2.4,1.0,3.0],[1.0,5.0,1.0,3.5,0.5],[1.5,3.0,3.5,1.0,2.0],[2.0,4.0,4.2,4.3,6.0]] #matriz de 5x5\n",
        "\n",
        "#nos falta definir la restricción P_{i} \\leq P_{j} \\forall j \\neq i\n",
        "#definamos una lista inicialmente vacía\n",
        "stock = []\n",
        "for i in range(5):\n",
        "    for j in range(5):\n",
        "      if i !=j:\n",
        "        p=np.zeros(5)\n",
        "        p[i]=1\n",
        "        p[j]=-2 #esto es [0,1,-2,0,0] por ej, lo cual es equivalente a decir 1p_{1}<=2p_{2}\n",
        "        stock += [p]\n",
        "\n",
        "#concatenamos \n",
        "A= A + stock\n",
        "#donde la matriz stock tiene dimensiones 20x5 (pues son 20 iteraciones)\n",
        "#luego, A* P = b, A \\in \\mathcal(M)_{25x5}, P \\in \\mathcal(M)_{5x1} entonces b \\in mathcal(M)_{25x1}\n",
        "b= np.zeros((25,1))\n",
        "#asignamos\n",
        "b[0]=4000\n",
        "b[1]=2000\n",
        "b[2]=8000\n",
        "b[3]=5000\n",
        "b[4]=12000\n",
        "\n",
        "#en las demás filas de b habrán 0's, en consonancia con que cada fila verifique p_{i} - 2p_{j}<= 0\n",
        "\n",
        "P1_bound=(0, None)\n",
        "P2_bound=(0, None)\n",
        "P3_bound=(0, None)\n",
        "P4_bound=(0, None)\n",
        "P5_bound=(0, None) \n",
        "\n",
        "#el vector de costos y los límites de P1, P2, P3, P4 y P5 son los mismos que el caso inicial.\n",
        "sol = linprog(c, A, b, bounds=[P1_bound,P2_bound,P3_bound, P4_bound,P5_bound])\n",
        "print(\"La solución es\", -sol.fun)\n",
        "print(sol.x)"
      ],
      "metadata": {
        "colab": {
          "base_uri": "https://localhost:8080/"
        },
        "id": "-nbQye2dg4ck",
        "outputId": "aa7cee77-37d6-4d0d-a0b4-d8f2224f3cd0"
      },
      "execution_count": 79,
      "outputs": [
        {
          "output_type": "stream",
          "name": "stdout",
          "text": [
            "La solución es 2480.0\n",
            "[133.33333333 133.33333333 133.33333333 266.66666667 266.66666667]\n"
          ]
        }
      ]
    },
    {
      "cell_type": "markdown",
      "source": [
        "Entonces, las cantidad óptimas a producir son, aproximadamente:\n",
        "\n",
        "| Producto | Cantidad óptima a producir | \n",
        "|----------|----------|\n",
        "| $P_{1}$    | 133.33   |\n",
        "| $P_{2}$    | 133.33  | \n",
        "| $P_{3}$   | 133.33   | \n",
        "| $P_{4}$ | 267.66 |\n",
        "|$P_{5}$|  267.66 |\n",
        "\n",
        "Y la función optimizada es igual a 2480. Intuitivamente, este valor óptimo es menor al del caso inicial, pues se dispone de menor presupuesto para invertir, lo cual se traduce en una producción más limitada."
      ],
      "metadata": {
        "id": "e31AhiiZNqqp"
      }
    },
    {
      "cell_type": "markdown",
      "source": [
        "$c)$ El tiempo total disponible por semana de todas las máquinas no debe superar las 27000 horas, mientras que el tiempo individual de cada máquina no puede superar las 13500 horas. \\\\\n",
        "\n",
        "\n",
        "| Tipo de máquina | Horas disponibles por semana | \n",
        "|----------|----------|\n",
        "| $M_{1}$    | 13500   |\n",
        "| $M_{2}$    | 13500   | \n",
        "| $M_{3}$   | 13500   | \n",
        "| $M_{4}$ | 13500 |\n",
        "| Total  | 27000 |\n",
        "\n",
        "De modo que el problema a resolver es\n",
        "\n",
        "\n",
        "$$\n",
        " (PL) \\left \\{ \n",
        " \\begin{array}{rcrll}\n",
        "    \\max && 1,1P_{1} + 2,1P_{2} + 2,18P_{3} +2,21P_{4} + 4,4P_{5} \\\\\n",
        "    \\text{s.a.}  \n",
        "    &&    4,14P_{1} +5,2P_{2} + 6,66P_{3} + 1,97P_{4} + 5,03P_{5}  &\\leq&  5000 \\\\\n",
        "    &&    1,5P_{1}+P_{2}+2,4P_{3}+P_{4} + 3P_{5}  &\\leq&  13500 \\\\\n",
        "    &&    P_{1}+ 5P_{2} + P_{3} + 3,5P_{4} + 0,5P_{5} &\\leq& 13500 \\\\\n",
        "    &&    1,5P_{1}+3P_{2} + 3,5P_{3} + P_{4}+2P_{5} &\\leq& 13500 \\\\\n",
        "    &&    2P_{1}+4P_{2} + 4,2P_{3}+ 4,3P_{4} + 6P_{5} &\\leq& 13500 \\\\\n",
        "    && \\sum_{i=1}^{4} H_{M_{i}} & \\leq & 27000 \\\\\n",
        "    &&    P_{i}&\\leq& 2P_{j},\\ \\forall i \\neq j &&\\\\\n",
        "    &&    P_{i}&\\geq& 0,\\ \\forall i=1,\\dots,5 .\n",
        " \\end{array}\n",
        " \\right.\n",
        " $$\n",
        "\n",
        " Para expresar la nueva restricción de horas en función de las variables de decisión, podemos definir las horas totales requeridas por unidad de producto. Es decir\n",
        "\n",
        " $$\n",
        "\\sum_{i=1}^{4} H_{M_{i}}= 6P_{1}+13P_{2}+11,1P_{3}+12,3P_{4}+11,5P_{5}.\n",
        " $$ \n"
      ],
      "metadata": {
        "id": "rKOR-VzKjk9b"
      }
    },
    {
      "cell_type": "code",
      "source": [
        "c = [-1.1,-2.1,-2.18,-2.21,-4.4] #vector de costos\n",
        "A = [[4.14,5.2,6.66,1.97,5.03],[1.5,1.0,2.4,1.0,3.0],[1.0,5.0,1.0,3.5,0.5],[1.5,3.0,3.5,1.0,2.0],[2.0,4.0,4.2,4.3,6.0],[6,13,11.1,9.8,11.5]] #matriz de 6x5\n",
        "\n",
        "#nos falta definir la restricción P_{i} \\leq P_{j} \\forall j \\neq i\n",
        "#definamos una lista inicialmente vacía\n",
        "stock = []\n",
        "for i in range(5):\n",
        "    for j in range(5):\n",
        "      if i !=j:\n",
        "        p=np.zeros(5)\n",
        "        p[i]=1\n",
        "        p[j]=-2 #esto es [0,1,-2,0,0] por ej, lo cual es equivalente a decir 1p_{1}<=2p_{2}\n",
        "        stock += [p]\n",
        "\n",
        "#concatenamos \n",
        "A= A + stock  \n",
        "#donde la matriz stock tiene dimensiones 20x5 (pues son 20 iteraciones)\n",
        "#luego, A* P = b, A \\in \\mathcal(M)_{25x5}, P \\in \\mathcal(M)_{5x1} entonces b \\in mathcal(M)_{25x1}\n",
        "b= np.zeros((26,1))\n",
        "#asignamos\n",
        "b[0]=5000 #presupuesto\n",
        "b[1]=13500 #tiempo semanal M_{1}\n",
        "b[2]=13500 #tiempo semanal M_{2}\n",
        "b[3]=13500 #tiempo semanal M_{3}\n",
        "b[4]=13500 #tiempo semanal M_{4}\n",
        "b[5]=27000 #\n",
        "\n",
        "\n",
        "P1_bound=(0, None)\n",
        "P2_bound=(0, None)\n",
        "P3_bound=(0, None)\n",
        "P4_bound=(0, None)\n",
        "P5_bound=(0, None) \n",
        "\n",
        "sol = linprog(c, A, b, bounds=[P1_bound,P2_bound,P3_bound, P4_bound,P5_bound])\n",
        "print(\"La solución es\", -sol.fun)\n",
        "print(\"Las cantidades óptimas a producir son\", sol.x)\n"
      ],
      "metadata": {
        "colab": {
          "base_uri": "https://localhost:8080/"
        },
        "id": "VzwHm1mbj9ak",
        "outputId": "a168e5bb-f960-4931-cfe4-f77b6c8a91f9"
      },
      "execution_count": 80,
      "outputs": [
        {
          "output_type": "stream",
          "name": "stdout",
          "text": [
            "La solución es 3100.0\n",
            "Las cantidades óptimas a producir son [166.66666667 166.66666667 166.66666667 333.33333333 333.33333333]\n"
          ]
        }
      ]
    },
    {
      "cell_type": "markdown",
      "source": [
        "Entonces, las cantidades óptimas a producir son, aproximadamente:\n",
        "\n",
        "| Producto | Cantidad óptima a producir | \n",
        "|----------|----------|\n",
        "| $P_{1}$    | 166.67   |\n",
        "| $P_{2}$    | 166.67  | \n",
        "| $P_{3}$   | 166.67   | \n",
        "| $P_{4}$ | 333.33 |\n",
        "|$P_{5}$|  333.33 |\n",
        "\n",
        "Y la función optimizada es igual a 3100. En comparación al caso inicial, se tiene una mayor utilidad y se mantiene la diversidad en la producción, por lo que el aumento en las horas disponibles son ventajosas, pese a la restricción de stock."
      ],
      "metadata": {
        "id": "ip12JhWvRMDf"
      }
    },
    {
      "cell_type": "markdown",
      "source": [
        "$d)$ Todas las anteriores incluidas:\n",
        "Nuevamente, usemos la librería gurobi, y el problema es\n",
        "\n",
        "$$\n",
        " (PL) \\left \\{ \n",
        " \\begin{array}{rcrll}\n",
        "    \\max && 1,1P_{1} + 2,1P_{2} + 2,18P_{3} +2,21P_{4} + 4,4P_{5} \\\\\n",
        "    \\text{s.a.}  \n",
        "    &&    4,14P_{1} +5,2P_{2} + 6,66P_{3} + 1,97P_{4} + 5,03P_{5}  &\\leq&  4000 \\\\\n",
        "    &&    1,5P_{1}+P_{2}+2,4P_{3}+P_{4} + 3P_{5}  &\\leq&  13500 \\\\\n",
        "    &&    P_{1}+ 5P_{2} + P_{3} + 3,5P_{4} + 0,5P_{5} &\\leq& 13500 \\\\\n",
        "    &&    1,5P_{1}+3P_{2} + 3,5P_{3} + P_{4}+2P_{5} &\\leq& 13500 \\\\\n",
        "    &&    2P_{1}+4P_{2} + 4,2P_{3}+ 4,3P_{4} + 6P_{5} &\\leq& 13500 \\\\\n",
        "    && 6P_{1}+13P_{2}+11,1P_{3}+12,3P_{4}+11,5P_{5} &\\leq& 27000\\\\\n",
        "    &&    P_{i}&\\geq& 0,\\ \\forall i=1,\\dots,5 &&\n",
        " \\end{array}\n",
        " \\right.\n",
        " $$"
      ],
      "metadata": {
        "id": "FH4Nfmj9mg3B"
      }
    },
    {
      "cell_type": "code",
      "source": [
        "from gurobipy import *\n",
        "\n",
        "n = Model(\"PL\")\n",
        "\n",
        "#declaramos la variable como continua\n",
        "p1=n.addVar(vtype=GRB.CONTINUOUS, name='p1')\n",
        "p2=n.addVar(vtype=GRB.CONTINUOUS, name='p2')\n",
        "p3=n.addVar(vtype=GRB.CONTINUOUS, name='p3')\n",
        "p4=n.addVar(vtype=GRB.CONTINUOUS, name='p4')\n",
        "p5=n.addVar(vtype=GRB.CONTINUOUS, name='p5')\n",
        "\n",
        "n.update() #Para actualizar el modelo\n",
        "\n",
        "p=[p1,p2,p3,p4,p5]\n",
        "\n",
        "def espositivo(P):\n",
        "  for i in range(len(P)):\n",
        "    return P[i]>=0\n",
        "              \n",
        "n.setObjective(1.1*p1+2.1*p2 +2.18*p3+2.21*p4+4.4*p5, GRB.MAXIMIZE) #maximizar\n",
        "n.addConstr(4.14*p1 + 5.2*p2+ 6.66*p3+ 1.97*p4+ 5.03*p5<=4000,'r0') #el presupuesto es 4000\n",
        "n.addConstr(p1+5*p2+p3+3.5*p4+0.5*p5<=13500,'r2') #tiempo disponible M_{2}\n",
        "n.addConstr(1.5*p1+p2+2.4*p3+p4+3*p5<=13500,'r1') #tiempo disponible M_{1}\n",
        "n.addConstr(1.5*p1 + 3*p2 + 3.5*p3 + p4 + 2*p5 <=13500,'r3') #tiempo disponible M_{3}\n",
        "n.addConstr(2*p1 + 4*p2 + 4.2*p3 + 4.3*p4 + 6*p5<= 13500,'r4') #tiempo disponible M_{4}\n",
        "n.addConstr(espositivo(p),'r5')\n",
        "n.addConstr(6*p1 +13*p2 +11.1*p3 +12.3*p4 +11.5*p5<=27000,'r6') #restriccion horas totales\n",
        "#no hay restricción de stock\n",
        "\n",
        "n.update() #actualizamos la variable\n",
        "\n",
        "n.optimize()"
      ],
      "metadata": {
        "colab": {
          "base_uri": "https://localhost:8080/"
        },
        "id": "jgGvlZ2ImqnM",
        "outputId": "1ff26b85-d6f8-4816-9494-de21323bf422"
      },
      "execution_count": 81,
      "outputs": [
        {
          "output_type": "stream",
          "name": "stdout",
          "text": [
            "Gurobi Optimizer version 10.0.1 build v10.0.1rc0 (linux64)\n",
            "\n",
            "CPU model: Intel(R) Xeon(R) CPU @ 2.20GHz, instruction set [SSE2|AVX|AVX2]\n",
            "Thread count: 1 physical cores, 2 logical processors, using up to 2 threads\n",
            "\n",
            "Optimize a model with 7 rows, 5 columns and 31 nonzeros\n",
            "Model fingerprint: 0x428373ea\n",
            "Coefficient statistics:\n",
            "  Matrix range     [5e-01, 1e+01]\n",
            "  Objective range  [1e+00, 4e+00]\n",
            "  Bounds range     [0e+00, 0e+00]\n",
            "  RHS range        [4e+03, 3e+04]\n",
            "Presolve removed 4 rows and 0 columns\n",
            "Presolve time: 0.01s\n",
            "Presolved: 3 rows, 5 columns, 15 nonzeros\n",
            "\n",
            "Iteration    Objective       Primal Inf.    Dual Inf.      Time\n",
            "       0    4.4873096e+03   0.000000e+00   0.000000e+00      0s\n",
            "       0    4.4873096e+03   0.000000e+00   0.000000e+00      0s\n",
            "\n",
            "Solved in 0 iterations and 0.02 seconds (0.00 work units)\n",
            "Optimal objective  4.487309645e+03\n"
          ]
        }
      ]
    },
    {
      "cell_type": "code",
      "source": [
        "print(\"Función objetivo:\", n.ObjVal)\n",
        "print(\"Para alcanzar la máxima utilidad hay que producir\", p1.X, \"unidades de P1,\", p2.X, \"unidades de P2,\", p3.X, \"unidades de P3,\", p4.X, \"unidades de P4 y\",p5.X, \"unidades de P5.\")"
      ],
      "metadata": {
        "colab": {
          "base_uri": "https://localhost:8080/"
        },
        "id": "I07e4MU7owWB",
        "outputId": "d4325e2a-49d9-4e2a-971a-704630725654"
      },
      "execution_count": 82,
      "outputs": [
        {
          "output_type": "stream",
          "name": "stdout",
          "text": [
            "Función objetivo: 4487.309644670051\n",
            "Para alcanzar la máxima utilidad hay que producir 0.0 unidades de P1, 0.0 unidades de P2, 0.0 unidades de P3, 2030.4568527918782 unidades de P4 y 0.0 unidades de P5.\n"
          ]
        }
      ]
    },
    {
      "cell_type": "markdown",
      "source": [
        "Finalmente, aunando todas las restricciones anteriores, se obtiene una mayor utilidad respecto al caso inicial a pesar de disponer de un presupuesto menor. Sin embargo, lo óptimo es solo producir unidades $P_{4}$. La siguiente tabla resume los resultados\n",
        "\n",
        "\n",
        "| Producto | Cantidad óptima a producir | \n",
        "|----------|----------|\n",
        "| $P_{1}$    | 0   |\n",
        "| $P_{2}$    | 0  | \n",
        "| $P_{3}$   | 0   | \n",
        "| $P_{4}$ | 2030.45 |\n",
        "|$P_{5}$|  0 |\n",
        "\n",
        "Y la función optimizada es aproximadamente 4487,31. \\\\\n",
        "Es directo notar que sin la restricción de stock, la solución se carga en $P_{4}$, provocando un desbalance. Por el otro lado, si se evalúa el modelo sólo en materias económicas sencillas (vale decir, no existen aristas de otra índole involucradas en el problema, y descartando la existencia de preferencias de un producto por sobre otro), este caso es el que mayor utilidad genera, y por tanto, es el más conveniente."
      ],
      "metadata": {
        "id": "BrjnDM8sQJu_"
      }
    }
  ]
}