{
  "nbformat": 4,
  "nbformat_minor": 0,
  "metadata": {
    "colab": {
      "provenance": []
    },
    "kernelspec": {
      "name": "python3",
      "display_name": "Python 3"
    },
    "language_info": {
      "name": "python"
    }
  },
  "cells": [
    {
      "cell_type": "markdown",
      "source": [
        "Universidad de Chile \\\\\n",
        "Facultad de Ciencias Físicas y Matemáticas \\\\\n",
        "Departamento de Ingeniería Matemática\n",
        "\n",
        "MA3711-1 Optimización Matemática, 2023-1.      \n",
        "Profesor: Jorge Amaya.    \n",
        "Auxiliar: Aldo Gutierrez.     \n",
        "Ayudante: Carolina Chiu.    \n",
        "Alumna: Antonia Valenzuela.    \n",
        "\n",
        "# Tarea Numérica $\\#2$"
      ],
      "metadata": {
        "id": "ey-knUhEo1nc"
      }
    },
    {
      "cell_type": "markdown",
      "source": [
        "## Modelo conceptual, hipótesis y contexto\n",
        "\n",
        "Se desea enviar a costo mínimo, $150$ kg de producto desde el nodo $1$ al nodo $6$. Desgraciadamente no se conoce la forma que usa la empresa de transporte (llamada TRAN) para fijar el costo sobre cada arco.\n",
        "\n",
        "Se solicita a la empresa que realice una cotización e indique el costo aplicado a cada arco, de acuerdo al flujo propuesto por usted en el esquema. La empresa envía los costos (en USD) según los flujos indicados en cada arco, según la siguiente matriz de adyacencia:\n",
        "\n",
        "\\begin{equation*}\n",
        "    \\big(c_{0}(x_{ij})\\big)_{i,j=1,\\dots,6} =\n",
        "    \\begin{pmatrix}\n",
        "        - &800&900&-&-&-\\\\\n",
        "        -&-&150&780&500&-\\\\\n",
        "        -&-&-&800&800&-\\\\\n",
        "        -&-&-&-&500&900\\\\\n",
        "        -&-&-&-&-&950\\\\\n",
        "        -&-&-&-&-&-\n",
        "    \\end{pmatrix}.\n",
        "\\end{equation*}\n",
        "\n",
        "Además, se informan las capacidades máximas $(K_{ij})$ en los arcos, a través de la matriz:\n",
        "\n",
        "\\begin{equation*}\n",
        "    (K_{ij})_{i,j=1,\\dots,6} =\n",
        "    \\begin{pmatrix}\n",
        "        -&60&150&-&-&-\\\\\n",
        "        -&-&50&50&50&-\\\\\n",
        "        -&-&-&50&80&-\\\\\n",
        "        -&-&-&-&60&50\\\\\n",
        "        -&-&-&-&-&150\\\\\n",
        "        -&-&-&-&-&-\n",
        "    \\end{pmatrix}.\n",
        "\\end{equation*}\n",
        "\n",
        "En primera instancia, se propone utilizar el método de los *mínimos cuadrados* para descubrir aproximadamente cuál es la función de costos de la empresa, que en la práctica corresponde al esquema de tarifas de TRAN. Se conjetura que el costo sobre cada arco está representado por una función del tipo logístico, dada por:\n",
        "\\begin{equation*}\n",
        "    c(x_{ij}) = \\dfrac{\\alpha e^{ax_{ij}}}{\\beta e^{ax_{ij}}+1},\n",
        "\\end{equation*}\n",
        "donde $\\alpha,\\beta,a\\geq0$. Se dispone a aproximar esta función de costo para tener una mejor información adicional para dar una decisión sobre el problema.\n",
        "\n",
        "A continuación, se importan librerías que serán de utilidad para resolver los problemas de optimización."
      ],
      "metadata": {
        "id": "0l8JnGao8s0f"
      }
    },
    {
      "cell_type": "code",
      "source": [
        "pip install lmfit"
      ],
      "metadata": {
        "colab": {
          "base_uri": "https://localhost:8080/"
        },
        "id": "dSln6avj8HRU",
        "outputId": "5893cba0-8fd7-41a0-8b21-2516c7d42b31"
      },
      "execution_count": 21,
      "outputs": [
        {
          "output_type": "stream",
          "name": "stdout",
          "text": [
            "Requirement already satisfied: lmfit in /usr/local/lib/python3.10/dist-packages (1.2.1)\n",
            "Requirement already satisfied: asteval>=0.9.28 in /usr/local/lib/python3.10/dist-packages (from lmfit) (0.9.30)\n",
            "Requirement already satisfied: numpy>=1.19 in /usr/local/lib/python3.10/dist-packages (from lmfit) (1.22.4)\n",
            "Requirement already satisfied: scipy>=1.6 in /usr/local/lib/python3.10/dist-packages (from lmfit) (1.10.1)\n",
            "Requirement already satisfied: uncertainties>=3.1.4 in /usr/local/lib/python3.10/dist-packages (from lmfit) (3.1.7)\n",
            "Requirement already satisfied: future in /usr/local/lib/python3.10/dist-packages (from uncertainties>=3.1.4->lmfit) (0.18.3)\n"
          ]
        }
      ]
    },
    {
      "cell_type": "code",
      "source": [
        "pip install --upgrade networkx[default]"
      ],
      "metadata": {
        "colab": {
          "base_uri": "https://localhost:8080/"
        },
        "id": "4WgulJ2WpaSf",
        "outputId": "9d905b88-2e47-4b7a-86e9-002543c4461d"
      },
      "execution_count": 22,
      "outputs": [
        {
          "output_type": "stream",
          "name": "stdout",
          "text": [
            "Requirement already satisfied: networkx[default] in /usr/local/lib/python3.10/dist-packages (3.1)\n",
            "Requirement already satisfied: numpy>=1.20 in /usr/local/lib/python3.10/dist-packages (from networkx[default]) (1.22.4)\n",
            "Requirement already satisfied: scipy>=1.8 in /usr/local/lib/python3.10/dist-packages (from networkx[default]) (1.10.1)\n",
            "Requirement already satisfied: matplotlib>=3.4 in /usr/local/lib/python3.10/dist-packages (from networkx[default]) (3.7.1)\n",
            "Requirement already satisfied: pandas>=1.3 in /usr/local/lib/python3.10/dist-packages (from networkx[default]) (1.5.3)\n",
            "Requirement already satisfied: contourpy>=1.0.1 in /usr/local/lib/python3.10/dist-packages (from matplotlib>=3.4->networkx[default]) (1.1.0)\n",
            "Requirement already satisfied: cycler>=0.10 in /usr/local/lib/python3.10/dist-packages (from matplotlib>=3.4->networkx[default]) (0.11.0)\n",
            "Requirement already satisfied: fonttools>=4.22.0 in /usr/local/lib/python3.10/dist-packages (from matplotlib>=3.4->networkx[default]) (4.40.0)\n",
            "Requirement already satisfied: kiwisolver>=1.0.1 in /usr/local/lib/python3.10/dist-packages (from matplotlib>=3.4->networkx[default]) (1.4.4)\n",
            "Requirement already satisfied: packaging>=20.0 in /usr/local/lib/python3.10/dist-packages (from matplotlib>=3.4->networkx[default]) (23.1)\n",
            "Requirement already satisfied: pillow>=6.2.0 in /usr/local/lib/python3.10/dist-packages (from matplotlib>=3.4->networkx[default]) (8.4.0)\n",
            "Requirement already satisfied: pyparsing>=2.3.1 in /usr/local/lib/python3.10/dist-packages (from matplotlib>=3.4->networkx[default]) (3.1.0)\n",
            "Requirement already satisfied: python-dateutil>=2.7 in /usr/local/lib/python3.10/dist-packages (from matplotlib>=3.4->networkx[default]) (2.8.2)\n",
            "Requirement already satisfied: pytz>=2020.1 in /usr/local/lib/python3.10/dist-packages (from pandas>=1.3->networkx[default]) (2022.7.1)\n",
            "Requirement already satisfied: six>=1.5 in /usr/local/lib/python3.10/dist-packages (from python-dateutil>=2.7->matplotlib>=3.4->networkx[default]) (1.16.0)\n"
          ]
        }
      ]
    },
    {
      "cell_type": "code",
      "source": [
        "#paquetes para manipulación numérica y gráficos\n",
        "import pandas as pd\n",
        "import numpy as np\n",
        "import seaborn as sns\n",
        "import matplotlib.pyplot as plt\n",
        "#optimización\n",
        "from lmfit import Parameters, Model, minimize\n",
        "import networkx as nx"
      ],
      "metadata": {
        "id": "FaqJMbNf8NK4"
      },
      "execution_count": 23,
      "outputs": []
    },
    {
      "cell_type": "markdown",
      "source": [
        "##Parte 1##\n",
        "En base a lo ya contextualizado, para estimar (ajustar o calibrar) la función desconocida $c(x_{ij})$, el problema de optimización a solucionar es\n",
        "\n",
        "$$\n",
        " \\text{(MC)} \\quad  \\min \\sum_{i,j=1,...,6} (c_0(x_{ij}) - c(\\alpha, \\beta, a, x_{ij}))^{2} \\\\\n",
        " \\text{s.a.} \\quad \\alpha, \\beta, a, x_{ij} \\geq 0.\n",
        "$$\n",
        "\n",
        "que corresponde por definición al problema de mínimos cuadrados."
      ],
      "metadata": {
        "id": "BgQ4vQver8y_"
      }
    },
    {
      "cell_type": "markdown",
      "source": [
        "A continuación escribimos las matrices de costo, flujo y capacidad máxima.\n",
        "Por conveniencia de formato (sobre todo para graficar), en las matrices de 6x6 nos interesan los valores que sí están determinados, los cuales se pueden reescribir como arreglos de largo 10."
      ],
      "metadata": {
        "id": "IlAOfEsLFYrA"
      }
    },
    {
      "cell_type": "code",
      "source": [
        "a=5,10,20,25,40,45,50,70,100,110\n",
        "b=150,500,500,780,800,800,900,800,950,900\n",
        "X=np.array(a) #arreglo de flujo\n",
        "C=np.array(b) #arreglo de costos"
      ],
      "metadata": {
        "id": "avQ3w6WnqZfU"
      },
      "execution_count": 24,
      "outputs": []
    },
    {
      "cell_type": "markdown",
      "source": [
        "##Parte 2##\n",
        "Se resuelve el problema $(MC)$ para obtener el valor de los parámetros $\\alpha, \\beta$ y $a$ utilizando la librería *lmfit*."
      ],
      "metadata": {
        "id": "1UpYJnNN_4qC"
      }
    },
    {
      "cell_type": "code",
      "source": [
        "data    = {\"X\": X, \"C\": C} #diccionario\n",
        "data_df = pd.DataFrame(data=data)"
      ],
      "metadata": {
        "id": "VdC4WMs-IO5o"
      },
      "execution_count": 25,
      "outputs": []
    },
    {
      "cell_type": "code",
      "source": [
        "def costo(x, alpha, beta, a):\n",
        "    \"\"\"\n",
        "    Inputs: Valor x y parámetros numéricos alpha, beta, a.\n",
        "    Output: el valor de la funcion de costo evaluada en x, con\n",
        "    parametros alpha, beta, a.\n",
        "    Comentario: Se define la funcion de costo en terminos de los\n",
        "    parametros alpha, beta, a no negativos, presentada en el modelo\n",
        "    conceptual.\n",
        "    \"\"\"\n",
        "    if np.abs(x) < 1e-3:\n",
        "        output = 0\n",
        "    else:\n",
        "        output = alpha*np.exp(a*x)/(beta*np.exp(a*x)+1)\n",
        "    return output\n",
        "\n",
        "def resta(theta, data):\n",
        "\n",
        "    alpha = theta[\"alpha\"].value\n",
        "    beta  = theta[\"beta\"].value\n",
        "    a     = theta[\"a\"].value\n",
        "\n",
        "    model = np.array([costo(i[0], alpha, beta, a) for i in zip(data[\"X\"])])\n",
        "    return model - np.array(data[\"C\"])"
      ],
      "metadata": {
        "id": "gVO7zN3luXF8"
      },
      "execution_count": 26,
      "outputs": []
    },
    {
      "cell_type": "code",
      "source": [
        "theta = Parameters()\n",
        "theta.add('alpha', value = 1, min=0)\n",
        "theta.add('beta', value = 1, min=0)\n",
        "theta.add('a', value =1, min=0)\n",
        "\n",
        "# Aplicar el metodo de minimizacion\n",
        "report = minimize(fcn = resta, params = theta,\n",
        "                  method = \"least_squares\",  args=[data_df])\n",
        "alpha, beta, a = report.x"
      ],
      "metadata": {
        "id": "2MEJsjYlvyoi"
      },
      "execution_count": 27,
      "outputs": []
    },
    {
      "cell_type": "markdown",
      "source": [
        "y los valores estimados para $\\alpha,\\beta, a\\geq 0$ se resumen en la tabla a continuación"
      ],
      "metadata": {
        "id": "Q6vTxoOaBFMI"
      }
    },
    {
      "cell_type": "code",
      "source": [
        "# Mostrar los resultados\n",
        "pd.DataFrame(data = {\"alpha\": [alpha], \"beta\": [beta], \"a\": [a]}, index=[\"Valor estimado\"])"
      ],
      "metadata": {
        "colab": {
          "base_uri": "https://localhost:8080/",
          "height": 80
        },
        "id": "GA48j6FfvzfL",
        "outputId": "26878a91-262d-45d8-eadc-0d0aacd32fc4"
      },
      "execution_count": 28,
      "outputs": [
        {
          "output_type": "execute_result",
          "data": {
            "text/plain": [
              "                     alpha      beta         a\n",
              "Valor estimado  199.584574  0.228384  0.114552"
            ],
            "text/html": [
              "\n",
              "  <div id=\"df-45aa021f-8ff3-4c72-9ae7-27ef0b727157\">\n",
              "    <div class=\"colab-df-container\">\n",
              "      <div>\n",
              "<style scoped>\n",
              "    .dataframe tbody tr th:only-of-type {\n",
              "        vertical-align: middle;\n",
              "    }\n",
              "\n",
              "    .dataframe tbody tr th {\n",
              "        vertical-align: top;\n",
              "    }\n",
              "\n",
              "    .dataframe thead th {\n",
              "        text-align: right;\n",
              "    }\n",
              "</style>\n",
              "<table border=\"1\" class=\"dataframe\">\n",
              "  <thead>\n",
              "    <tr style=\"text-align: right;\">\n",
              "      <th></th>\n",
              "      <th>alpha</th>\n",
              "      <th>beta</th>\n",
              "      <th>a</th>\n",
              "    </tr>\n",
              "  </thead>\n",
              "  <tbody>\n",
              "    <tr>\n",
              "      <th>Valor estimado</th>\n",
              "      <td>199.584574</td>\n",
              "      <td>0.228384</td>\n",
              "      <td>0.114552</td>\n",
              "    </tr>\n",
              "  </tbody>\n",
              "</table>\n",
              "</div>\n",
              "      <button class=\"colab-df-convert\" onclick=\"convertToInteractive('df-45aa021f-8ff3-4c72-9ae7-27ef0b727157')\"\n",
              "              title=\"Convert this dataframe to an interactive table.\"\n",
              "              style=\"display:none;\">\n",
              "        \n",
              "  <svg xmlns=\"http://www.w3.org/2000/svg\" height=\"24px\"viewBox=\"0 0 24 24\"\n",
              "       width=\"24px\">\n",
              "    <path d=\"M0 0h24v24H0V0z\" fill=\"none\"/>\n",
              "    <path d=\"M18.56 5.44l.94 2.06.94-2.06 2.06-.94-2.06-.94-.94-2.06-.94 2.06-2.06.94zm-11 1L8.5 8.5l.94-2.06 2.06-.94-2.06-.94L8.5 2.5l-.94 2.06-2.06.94zm10 10l.94 2.06.94-2.06 2.06-.94-2.06-.94-.94-2.06-.94 2.06-2.06.94z\"/><path d=\"M17.41 7.96l-1.37-1.37c-.4-.4-.92-.59-1.43-.59-.52 0-1.04.2-1.43.59L10.3 9.45l-7.72 7.72c-.78.78-.78 2.05 0 2.83L4 21.41c.39.39.9.59 1.41.59.51 0 1.02-.2 1.41-.59l7.78-7.78 2.81-2.81c.8-.78.8-2.07 0-2.86zM5.41 20L4 18.59l7.72-7.72 1.47 1.35L5.41 20z\"/>\n",
              "  </svg>\n",
              "      </button>\n",
              "      \n",
              "  <style>\n",
              "    .colab-df-container {\n",
              "      display:flex;\n",
              "      flex-wrap:wrap;\n",
              "      gap: 12px;\n",
              "    }\n",
              "\n",
              "    .colab-df-convert {\n",
              "      background-color: #E8F0FE;\n",
              "      border: none;\n",
              "      border-radius: 50%;\n",
              "      cursor: pointer;\n",
              "      display: none;\n",
              "      fill: #1967D2;\n",
              "      height: 32px;\n",
              "      padding: 0 0 0 0;\n",
              "      width: 32px;\n",
              "    }\n",
              "\n",
              "    .colab-df-convert:hover {\n",
              "      background-color: #E2EBFA;\n",
              "      box-shadow: 0px 1px 2px rgba(60, 64, 67, 0.3), 0px 1px 3px 1px rgba(60, 64, 67, 0.15);\n",
              "      fill: #174EA6;\n",
              "    }\n",
              "\n",
              "    [theme=dark] .colab-df-convert {\n",
              "      background-color: #3B4455;\n",
              "      fill: #D2E3FC;\n",
              "    }\n",
              "\n",
              "    [theme=dark] .colab-df-convert:hover {\n",
              "      background-color: #434B5C;\n",
              "      box-shadow: 0px 1px 3px 1px rgba(0, 0, 0, 0.15);\n",
              "      filter: drop-shadow(0px 1px 2px rgba(0, 0, 0, 0.3));\n",
              "      fill: #FFFFFF;\n",
              "    }\n",
              "  </style>\n",
              "\n",
              "      <script>\n",
              "        const buttonEl =\n",
              "          document.querySelector('#df-45aa021f-8ff3-4c72-9ae7-27ef0b727157 button.colab-df-convert');\n",
              "        buttonEl.style.display =\n",
              "          google.colab.kernel.accessAllowed ? 'block' : 'none';\n",
              "\n",
              "        async function convertToInteractive(key) {\n",
              "          const element = document.querySelector('#df-45aa021f-8ff3-4c72-9ae7-27ef0b727157');\n",
              "          const dataTable =\n",
              "            await google.colab.kernel.invokeFunction('convertToInteractive',\n",
              "                                                     [key], {});\n",
              "          if (!dataTable) return;\n",
              "\n",
              "          const docLinkHtml = 'Like what you see? Visit the ' +\n",
              "            '<a target=\"_blank\" href=https://colab.research.google.com/notebooks/data_table.ipynb>data table notebook</a>'\n",
              "            + ' to learn more about interactive tables.';\n",
              "          element.innerHTML = '';\n",
              "          dataTable['output_type'] = 'display_data';\n",
              "          await google.colab.output.renderOutput(dataTable, element);\n",
              "          const docLink = document.createElement('div');\n",
              "          docLink.innerHTML = docLinkHtml;\n",
              "          element.appendChild(docLink);\n",
              "        }\n",
              "      </script>\n",
              "    </div>\n",
              "  </div>\n",
              "  "
            ]
          },
          "metadata": {},
          "execution_count": 28
        }
      ]
    },
    {
      "cell_type": "markdown",
      "source": [
        "Adicionalmente, se puede comparar la curva estimada fijando los valores para $\\alpha, \\beta$ y $a$, con los costos dados por la empresa."
      ],
      "metadata": {
        "id": "uE9VjKYPNDk3"
      }
    },
    {
      "cell_type": "code",
      "source": [
        "#fijamos los valores encontrados para graficar\n",
        "alpha=report.params.valuesdict()['alpha']\n",
        "beta=report.params.valuesdict()['beta']\n",
        "a=report.params.valuesdict()['a']"
      ],
      "metadata": {
        "id": "jqV1OrcDCsjX"
      },
      "execution_count": 29,
      "outputs": []
    },
    {
      "cell_type": "code",
      "source": [
        "plt.figure()\n",
        "plt.title(\"Curva estimada v/s datos reales\", fontsize = 15)\n",
        "plt.xlabel(\"Flujo\", fontdict = {'fontsize':12, 'fontweight':'bold'})\n",
        "plt.ylabel(\"Costo (USD)\", fontsize = 12)\n",
        "plt.plot(X,np.array([costo(i[0], alpha, beta, a) for i in zip(data[\"X\"])]),'r-',label='Estimación')\n",
        "plt.plot(X, C,'b--', label='Real') #real\n",
        "plt.legend(loc = \"lower right\")\n",
        "plt.show()"
      ],
      "metadata": {
        "colab": {
          "base_uri": "https://localhost:8080/",
          "height": 478
        },
        "id": "ZI6d6RwlNbBe",
        "outputId": "40a70ad4-2a2d-40a7-9d94-a6dabd1f85a8"
      },
      "execution_count": 30,
      "outputs": [
        {
          "output_type": "display_data",
          "data": {
            "text/plain": [
              "<Figure size 640x480 with 1 Axes>"
            ],
            "image/png": "[encoded data removed]"
          },
          "metadata": {}
        }
      ]
    },
    {
      "cell_type": "markdown",
      "source": [
        "Y  el costo total dado por la función recién calculada según la propuesta de flujo hecha se calcula como sigue"
      ],
      "metadata": {
        "id": "3S3-Cg8_Zdb1"
      }
    },
    {
      "cell_type": "code",
      "source": [
        "#X es el flujo propuesto en el dígrafo\n",
        "def costototal(X,alpha,beta,a):\n",
        "    output=0\n",
        "    for i in X:\n",
        "       output= output + costo(i,alpha,beta,a) #como la función costos en su primera variable recibe números, indexamos en i los elementos de X\n",
        "\n",
        "    return output\n",
        "\n",
        "print(costototal(X,alpha,beta,a))"
      ],
      "metadata": {
        "colab": {
          "base_uri": "https://localhost:8080/"
        },
        "id": "SkrxSXDKZ6bN",
        "outputId": "85c29fc3-5c74-4c79-b3b1-4421e165c785"
      },
      "execution_count": 31,
      "outputs": [
        {
          "output_type": "stream",
          "name": "stdout",
          "text": [
            "7092.783400533572\n"
          ]
        }
      ]
    },
    {
      "cell_type": "markdown",
      "source": [
        "De este modo, con la estimación nos resulta un costo de 7092 USD. Por otro lado, el costo total según los valores proporcionados por la empresa corresponde a 7080 USD. Es claro que ambos valores son cercanos entre sí, en particular, y en consonancia con el gráfico, la aproximación entrega un costo levemente mayor al real. Teniendo esto en cuenta junto con el gráfico, se tiene certeza de que se ejecutó una estimación apropiada."
      ],
      "metadata": {
        "id": "AiV1fvAjc2kG"
      }
    },
    {
      "cell_type": "code",
      "source": [
        "\"\"\"\n",
        "la matriz de costos incluye los costos dados según el flujo propuesto, por lo que para contar el costo total\n",
        "nos limitamos a contar las cantidades del array.\n",
        "\"\"\"\n",
        "output=0\n",
        "for i in C:\n",
        "      output= output + i\n",
        "\n",
        "print(output)"
      ],
      "metadata": {
        "colab": {
          "base_uri": "https://localhost:8080/"
        },
        "id": "L3kjg5lMavIh",
        "outputId": "3b89d57d-5f83-427e-9317-6fbf59032316"
      },
      "execution_count": 32,
      "outputs": [
        {
          "output_type": "stream",
          "name": "stdout",
          "text": [
            "7080\n"
          ]
        }
      ]
    },
    {
      "cell_type": "markdown",
      "source": [
        "##Parte 3\n",
        "Dado que ya estimamos los valores de los parámetros $\\alpha, \\beta$ y $a$, tenemos nuestra función de costos y nos proponemos resolver el siguiente problema no lineal de transporte\n",
        "\n",
        "$$\n",
        "\\begin{align}\n",
        "\\text{(P)}\\quad \\min &\\sum_{j=1}^{6}\\sum_{i=1}^{6} c(x_{ij}) \\\\\n",
        "\\text{s.a.}  \\quad  &x_{1,2}+x_{1,3} = 150 \\\\\n",
        "& x_{4,6}+ x_{5,6}=150 \\\\\n",
        "& \\sum_{i=1}^{n} x_{ij} = \\sum_{l=1}^{m} x_{jl} \\quad \\forall i,j,l \\in \\mathcal{A}\\\\\n",
        "& 0 \\leq x_{ij} \\leq k_{ij} \\quad \\forall i,j \\in \\mathcal{A}.\n",
        "\\end{align}\n",
        "$$\n",
        "\n",
        "Donde buscamos un flujo óptimo a costo mínimo para enviar los 150 kg de producto entre los nodos de origen y destino. \\\\\n",
        "\n",
        "\n",
        "La función objetivo corresponde a una sumatoria doble o, equivalentemente, se puede escribir como una sumatoria única indexada sobre el par ordenado $(i,j)$ de la función de costos evaluada en el flujo, donde éste último corresponde a la(s) variable(s) de decisión.\n",
        "\n",
        "\n",
        "La primera restricción establece que el flujo saliente del nodo de origen (que corresponde a la oferta) es en total 150, mientras que la segunda restricción señala que el flujo de llegada al nodo destino es igualmente 150 (corresponde a la demanda). \\\\\n",
        "\n",
        "La tercera restricción es sobre los nodos de transporte, e indica que el flujo entrante a un nodo debe ser igual al que parte desde éste. El índice $j$ indexa el nodo de transporte en sí (por tanto se considera sólo entre 2 y 5), mientras $i$ se mueve $1,...,n$, donde n representa la cantidad de arcos entrando al nodo, y $l$, análogamente, va contando desde 1 hasta $m$, donde éste último representa la cantidad de arcos alejándose del nodo. \\\\\n",
        "\n",
        "El conjunto $\\mathcal{A} \\subseteq \\{1,2,3,4,5,6\\}^{2}$ representa los arcos que en efecto se consideran para transportar los flujos entre los nodos. Es decir, se considerarán aquellos arcos que sí tengan un costo y capacidades máximas asociadas. Esta condición además excluye los pares ordenados $(i,j)$ tales que $i = j$, pues es redundante definir arcos sobre un mismo nodo. Otro ejemplo de esto es que el índice $j$ nunca tomará los valores 1 y 6 pues esto implicaría que existen arcos que llegan al nodo 1, o bien que salen del nodo 6, siendo éstos los nodos de origen y destino respectivamente (notemos que la columna 1 y la fila 6 presentadas en la contextualización carecen de valores). \\\\\n",
        "\n",
        "Luego, $k_{ij}$ representa los términos de la matriz de capacidades."
      ],
      "metadata": {
        "id": "KCc_Xi0TSbOD"
      }
    },
    {
      "cell_type": "markdown",
      "source": [
        "##Parte 4\n",
        "Se resuelve el problema $(P)$ planteado anteriormente mediante el solver Gekko, y a partir de la solución encontrada se puede dibujar un grafo que expone la nueva propuesta de flujos para el problema de transporte."
      ],
      "metadata": {
        "id": "Q5kyNq9Isqxm"
      }
    },
    {
      "cell_type": "code",
      "source": [
        "pip install --upgrade gekko"
      ],
      "metadata": {
        "colab": {
          "base_uri": "https://localhost:8080/"
        },
        "id": "UB1S2K_0wMNj",
        "outputId": "ff91ae8f-334a-4378-891f-f3a5c0fca155"
      },
      "execution_count": 33,
      "outputs": [
        {
          "output_type": "stream",
          "name": "stdout",
          "text": [
            "Requirement already satisfied: gekko in /usr/local/lib/python3.10/dist-packages (1.0.6)\n",
            "Requirement already satisfied: numpy>=1.8 in /usr/local/lib/python3.10/dist-packages (from gekko) (1.22.4)\n"
          ]
        }
      ]
    },
    {
      "cell_type": "code",
      "source": [
        "import networkx as nx\n",
        "import numbers\n",
        "def draw_graph(Flujo_y_mas, is_dict = False, shape = 0):\n",
        "    arcos = []\n",
        "    G = nx.DiGraph()\n",
        "    if shape == 0:\n",
        "        m = Flujo_y_mas.shape[0]\n",
        "    else:\n",
        "        m = shape\n",
        "    for i in range(m):\n",
        "        for j in range(m):\n",
        "            #if isinstance(Flujo_y_mas[0][0], numbers.Number):\n",
        "            if not is_dict:\n",
        "                if Flujo_y_mas[i,j] > 0:\n",
        "                    arcos.append((i,j))\n",
        "            else:\n",
        "                if Flujo_y_mas[i,j].value[0] > 0:\n",
        "                    arcos.append((i,j))\n",
        "    if not is_dict:\n",
        "        for k in range(len(arcos)):\n",
        "            (i,j)=arcos[k]\n",
        "            G.add_edge(arcos[k][0], arcos[k][1], weight=Flujo_y_mas[i,j])\n",
        "    else:\n",
        "        for k in range(len(arcos)):\n",
        "            (i,j)=arcos[k]\n",
        "            G.add_edge(arcos[k][0], arcos[k][1], weight=Flujo_y_mas[i,j].value[0])\n",
        "\n",
        "    #Hecho para maximo 6 nodos en default\n",
        "    pos = {0: (0, 0), 1: (10, 5), 2: (10, -5), 3: (30, 5), 4: (30, -5), 5: (40, 0)}\n",
        "\n",
        "    #nodes\n",
        "    nx.draw_networkx(G, pos, node_size=700)\n",
        "\n",
        "    # edge weight labels\n",
        "    edge_labels = nx.get_edge_attributes(G, \"weight\")\n",
        "    nx.draw_networkx_edge_labels(G, pos, edge_labels,font_size=12, font_family=\"sans-serif\",\n",
        "                                label_pos = 0.33, rotate =False)\n",
        "\n",
        "    # Set margins for the axes so that nodes aren't clipped\n",
        "    ax = plt.gca()\n",
        "    ax.margins(0.08)\n",
        "    plt.axis(\"off\")\n",
        "    plt.tight_layout()\n",
        "    plt.show()"
      ],
      "metadata": {
        "id": "NIBnFv_h-i07"
      },
      "execution_count": 34,
      "outputs": []
    },
    {
      "cell_type": "code",
      "source": [
        "#los flujos deben ser positivos.\n",
        "COTA_INF = np.zeros((6,6))\n",
        "COTA_INF[0] = np.array([0,0,0,0,0,0])\n",
        "COTA_INF[1] = np.array([0,0,0,0,0,0])\n",
        "COTA_INF[2] = np.array([0,0,0,0,0,0])\n",
        "COTA_INF[3] = np.array([0,0,0,0,0,0])\n",
        "COTA_INF[4] = np.array([0,0,0,0,0,0])\n",
        "COTA_INF[5] = np.array([0,0,0,0,0,0])\n",
        "\n",
        "#imponemos las capacidades máximas de flujo que soporta cada arco.\n",
        "COTA_SUP = np.zeros((6,6))\n",
        "COTA_SUP[0] = np.array([0,60,150,0,0,0])\n",
        "COTA_SUP[1] = np.array([0,0,50,50,50,0])\n",
        "COTA_SUP[2] = np.array([0,0,0,50,80,0])\n",
        "COTA_SUP[3] = np.array([0,0,0,0,60,50])\n",
        "COTA_SUP[4] = np.array([0,0,0,0,0,150])\n",
        "COTA_SUP[5] = np.array([0,0,0,0,0,0])"
      ],
      "metadata": {
        "id": "by2i22WpwQR0"
      },
      "execution_count": 35,
      "outputs": []
    },
    {
      "cell_type": "code",
      "source": [
        "from gekko import GEKKO\n",
        "\n",
        "#creamos una indicatriz con el fin de considerar sólo los arcos que en efecto transportan flujo\n",
        "# i.e aquellos que tienen asociado un costo no nulo.\n",
        "m = GEKKO()\n",
        "m.options.SOLVER=1\n",
        "variables = {}\n",
        "indicatriz = {}\n",
        "for i in range(6): #Son 6 nodos\n",
        "    for j in range(6): #Creamos x_{ij}\n",
        "        variables[i,j] = m.Var(value=0, lb= COTA_INF[i][j], ub=COTA_SUP[i][j], integer=False)\n",
        "        indicatriz[i,j]=m.if3(-variables[i,j],1,0)\n",
        "\n",
        "# Creamos las restricciones\n",
        "m.Equation(variables[0,1]+variables[0,2]==150)\n",
        "m.Equation(variables[3,5]+variables[4,5]==variables[0,1]+variables[0,2])\n",
        "m.Equation(variables[0,1]==(variables[1,2]+variables[1,3]+variables[1,4])) #nodo 2\n",
        "m.Equation((variables[0,2]+variables[1,2])==(variables[2,3]+variables[2,4])) #nodo 3\n",
        "m.Equation((variables[1,3]+variables[2,3])==(variables[3,4]+variables[3,5])) #nodo 4\n",
        "m.Equation((variables[1,4]+variables[2,4]+variables[3,4]==variables[4,5]))  #nodo 5\n",
        "\n",
        "#No hay flujo en el mismo nodo\n",
        "for i in range(6):\n",
        "    m.Equation(variables[i,i] == 0)\n",
        "\n",
        "#m.Obj(m.sum(f_obj(variables)))\n",
        "m.Obj((m.sum([((alpha*m.exp(a*variables[i,j]))/(beta*m.exp(a*variables[i,j])+1))*indicatriz[i,j] for i in range(6) for j in range(6)])))\n",
        "m.solve(disp=False) # Solve\n",
        "draw_graph(variables, is_dict = True, shape = 6)"
      ],
      "metadata": {
        "colab": {
          "base_uri": "https://localhost:8080/",
          "height": 487
        },
        "id": "0Q0B_KZ-zZIC",
        "outputId": "c0b46935-1215-4788-d30d-b6585ea2a10e"
      },
      "execution_count": 36,
      "outputs": [
        {
          "output_type": "display_data",
          "data": {
            "text/plain": [
              "<Figure size 640x480 with 1 Axes>"
            ],
            "image/png": "[encoded data removed]"
          },
          "metadata": {}
        }
      ]
    },
    {
      "cell_type": "markdown",
      "source": [
        "Se verifica que el grafo resultante respeta las capacidades máximas de cada arco. Luego, el nuevo flujo propuesto es mucho más óptimo respecto al propuesto inicialmente, pues al calcular el costo total que produce enviar 150 kg de producto desde el nodo 1 al nodo 6, éste resulta ser de aproximadamente 5555,76 USD, valor evidentemente menor a los presentados en la sección precedente."
      ],
      "metadata": {
        "id": "-wR3CWasoC1_"
      }
    },
    {
      "cell_type": "code",
      "source": [
        "\n",
        "m.options.objfcnval"
      ],
      "metadata": {
        "colab": {
          "base_uri": "https://localhost:8080/"
        },
        "id": "e0U8dBeTYs3i",
        "outputId": "9d1df480-6c6c-4b90-c9d1-d0822248e59f"
      },
      "execution_count": 37,
      "outputs": [
        {
          "output_type": "execute_result",
          "data": {
            "text/plain": [
              "5555.7671876"
            ]
          },
          "metadata": {},
          "execution_count": 37
        }
      ]
    },
    {
      "cell_type": "markdown",
      "source": [
        "##Parte 5\n",
        "Ahora la empresa TRAN carga un costo adicional por el simple hecho de usar un arco. La siguiente matriz resume el cargo\n",
        "\n",
        "$$\n",
        "[\\lambda_{ij}]=\n",
        "\\begin{pmatrix}\n",
        "- & 100 & 40 & - & - & - \\\\\n",
        "- & - & 45 & 45 & 45 & - \\\\\n",
        "- & - & - & 10 & 10 & - \\\\\n",
        "- & - & - & - & 30 & 10 \\\\\n",
        "- & - & - & - & - & 10  \\\\\n",
        "- & - & - & - & - & -\n",
        "\\end{pmatrix}\n",
        "$$\n",
        "\n",
        "Escribamos el nuevo modelo considerando los costos agregados, el cual es completamente símil al anterior $(P)$\n",
        "$$\n",
        "\\begin{align}\n",
        "\\text{(P')} \\quad \\min &\\sum_{j=1}^{6}\\sum_{i=1}^{6} (c(x_{ij})+ \\lambda_{ij} ) \\\\\n",
        " \\text{s.a.}  \\quad & x_{1,2}+x_{1,3} = 150 \\\\\n",
        "& x_{4,6}+ x_{5,6}=150 \\\\\n",
        "& \\sum_{i=1}^{n} x_{ij} = \\sum_{l=1}^{m} x_{jk} \\quad \\forall i,j,l \\in \\mathcal{A}\\\\\n",
        "& x_{ij} \\in [0,k_{ij}] \\quad \\forall i,j \\in \\mathcal{A}.\n",
        "\\end{align}\n",
        "$$\n"
      ],
      "metadata": {
        "id": "YyPCSLAf-ybb"
      }
    },
    {
      "cell_type": "markdown",
      "source": [
        "##Parte 6\n",
        "Se determina la solución del modelo $(P')$, cuyo procedimiento es análogo al ejecutado para resolver $(P)$."
      ],
      "metadata": {
        "id": "m8N1rvziGH96"
      }
    },
    {
      "cell_type": "code",
      "source": [
        "#Primero escribimos la matriz de costos adicionales\n",
        "Lambda = np.zeros((6,6))\n",
        "Lambda[0] = np.array([0,100,40,0,0,0])\n",
        "Lambda[1] = np.array([0,0,45,45,45,0])\n",
        "Lambda[2] = np.array([0,0,0,10,10,0])\n",
        "Lambda[3] = np.array([0,0,0,0,30,10])\n",
        "Lambda[4] = np.array([0,0,0,0,0,10])\n",
        "Lambda[5] = np.array([0,0,0,0,0,0])\n",
        "\n",
        "m = GEKKO()\n",
        "m.options.SOLVER=1\n",
        "variables = {}\n",
        "#pues nuestra función a optimizar involucra la función indicatriz\n",
        "indicatriz = {}\n",
        "for i in range(6): #Son 6 nodos\n",
        "    for j in range(6): #Creamos x_{ij}\n",
        "        variables[i,j] = m.Var(value=0, lb= COTA_INF[i][j], ub=COTA_SUP[i][j], integer=False)\n",
        "        indicatriz[i,j]=m.if3(-variables[i,j],1,0)\n",
        "\n",
        "# Creamos las restricciones\n",
        "m.Equation(variables[0,1]+variables[0,2]==150)\n",
        "m.Equation(variables[3,5]+variables[4,5]==variables[0,1]+variables[0,2])\n",
        "m.Equation(variables[0,1]==(variables[1,2]+variables[1,3]+variables[1,4])) #nodo 2\n",
        "m.Equation((variables[0,2]+variables[1,2])==(variables[2,3]+variables[2,4])) #nodo 3\n",
        "m.Equation((variables[1,3]+variables[2,3])==(variables[3,4]+variables[3,5])) #nodo 4\n",
        "m.Equation((variables[1,4]+variables[2,4]+variables[3,4]==variables[4,5])) #nodo 5\n",
        "\n",
        "#No hay flujo al mismo nodo\n",
        "for i in range(6):\n",
        "    m.Equation(variables[i,i] == 0)\n",
        "\n",
        "#m.Obj(m.sum(f_obj(variables)))\n",
        "m.Obj((m.sum([((alpha*m.exp(a*variables[i,j]))/(beta*m.exp(a*variables[i,j])+1)+Lambda[i,j])*indicatriz[i,j] for i in range(6) for j in range(6)])))\n",
        "m.solve(disp=False) # Solve\n",
        "draw_graph(variables, is_dict = True, shape = 6)"
      ],
      "metadata": {
        "colab": {
          "base_uri": "https://localhost:8080/",
          "height": 487
        },
        "id": "QTtjnKfPGcnR",
        "outputId": "c7529ca9-7d9c-4e14-dfd2-8bcf8b6e0dec"
      },
      "execution_count": 38,
      "outputs": [
        {
          "output_type": "display_data",
          "data": {
            "text/plain": [
              "<Figure size 640x480 with 1 Axes>"
            ],
            "image/png": "[encoded data removed]"
          },
          "metadata": {}
        }
      ]
    },
    {
      "cell_type": "markdown",
      "source": [
        "Resultándonos la misma propuesta de flujo que la dada para $(P)$. Este resultado es consistente al considerar que en el fondo se resuelve un problema de optimización casi idéntico (mismas cotas y restricciones), con diferencias no mayores en la nueva función objetivo que son, básicamente, constantes. \\\\\n",
        "\n",
        "Naturalmente, al aplicarse un cargo adicional, el costo total dado será superior que el dado para $(P)$, correspondiendo a aproximadamente 5780,76 USD. Es directo notar que, incluso considerando el nuevo cargo fijo, el costo entregado en el óptimo sigue siendo menor al costo total real dado por la propuesta de flujo inicial (el cual está desprovisto del costo adicional), y se puede reafirmar que encontramos una propuesta óptima."
      ],
      "metadata": {
        "id": "UhQ5Mfcssoni"
      }
    },
    {
      "cell_type": "code",
      "source": [
        "\n",
        "m.options.objfcnval"
      ],
      "metadata": {
        "colab": {
          "base_uri": "https://localhost:8080/"
        },
        "id": "dpe1BPwWec1f",
        "outputId": "6c7b3451-5315-42c3-ede6-7e070a0d4986"
      },
      "execution_count": 39,
      "outputs": [
        {
          "output_type": "execute_result",
          "data": {
            "text/plain": [
              "5780.7671876"
            ]
          },
          "metadata": {},
          "execution_count": 39
        }
      ]
    }
  ]
}